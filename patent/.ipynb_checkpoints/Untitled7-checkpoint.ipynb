{
 "cells": [
  {
   "cell_type": "code",
   "execution_count": 12,
   "metadata": {},
   "outputs": [],
   "source": [
    "from urllib.request import urlopen"
   ]
  },
  {
   "cell_type": "code",
   "execution_count": 14,
   "metadata": {},
   "outputs": [],
   "source": [
    "url = \"https://1boon.kakao.com/appstory/599e6d0e6a8e51000138fe39\"\n",
    "res = urlopen(url)"
   ]
  },
  {
   "cell_type": "code",
   "execution_count": 16,
   "metadata": {
    "scrolled": true
   },
   "outputs": [
    {
     "data": {
      "text/plain": [
       "'text/html;charset=UTF-8'"
      ]
     },
     "execution_count": 16,
     "metadata": {},
     "output_type": "execute_result"
    }
   ],
   "source": [
    "res.headers.get(\"Content-type\")"
   ]
  },
  {
   "cell_type": "code",
   "execution_count": 1,
   "metadata": {},
   "outputs": [],
   "source": [
    "from app.module import *"
   ]
  },
  {
   "cell_type": "code",
   "execution_count": 2,
   "metadata": {},
   "outputs": [],
   "source": [
    "company_alias = [\"회사\", \"기업\", \"브랜드\", \"브랜드명\", \"업체\", \"개발사\", \"제조사\", \"제작사\", \"제약사\"]\n",
    "\n",
    "patterns1 = [r'(%s){1}인{0,1} ㈜{0,1}([ㄱ-ㅣ가-힣()a-zA-Z0-9.%%\\-\\'\"]+)에서{1}는{0,1} ' % '|'.join(company_alias),\n",
    "                r'(%s){1}인{0,1} ㈜{0,1}([ㄱ-ㅣ가-힣()a-zA-Z0-9.%%\\-]+)[은는가와과도의,]{1} ' % '|'.join(company_alias),\n",
    "                r' ([ㄱ-ㅣ가-힣()a-zA-Z㈜.]+)[이가] 개발한 ',\n",
    "                r' ([ㄱ-ㅣ가-힣()a-zA-Z㈜.]+)의 기술은 ',\n",
    "                r' ([ㄱ-ㅣ가-힣()a-zA-Z㈜.]+)와 같은 기업들{0,1}은 ',\n",
    "                r'(([ㄱ-ㅣ가-힣()a-zA-Z0-9.%%\\-\\'\"]+[,|·] {0,1})*[ㄱ-ㅣ가-힣()a-zA-Z0-9.%%\\-\\'\"]+) 등 .{0,10}(%s){1}' % '|'.join(company_alias), # 김동 추가\n",
    "                r'설립된{1} ([ㄱ-ㅣ가-힣()a-zA-Z0-9.%%\\-\\\"\"]+)[은는가와과도의등,]{1}'\n",
    "                 ]"
   ]
  },
  {
   "cell_type": "code",
   "execution_count": 3,
   "metadata": {},
   "outputs": [
    {
     "ename": "NameError",
     "evalue": "name 'keyword' is not defined",
     "output_type": "error",
     "traceback": [
      "\u001b[1;31m---------------------------------------------------------------------------\u001b[0m",
      "\u001b[1;31mNameError\u001b[0m                                 Traceback (most recent call last)",
      "\u001b[1;32m<ipython-input-3-df29a2a74983>\u001b[0m in \u001b[0;36m<module>\u001b[1;34m()\u001b[0m\n\u001b[1;32m----> 1\u001b[1;33m \u001b[0mtempre\u001b[0m\u001b[1;33m,\u001b[0m \u001b[0mtempre2\u001b[0m\u001b[1;33m,\u001b[0m \u001b[0mtempre3\u001b[0m\u001b[1;33m,\u001b[0m \u001b[0msubject_postpositions1\u001b[0m\u001b[1;33m,\u001b[0m \u001b[0msubject_postpositions2\u001b[0m\u001b[1;33m,\u001b[0m \u001b[0mpatterns1\u001b[0m\u001b[1;33m,\u001b[0m \u001b[0mpatterns2\u001b[0m\u001b[1;33m,\u001b[0m \u001b[0maugmented_keyword_list\u001b[0m\u001b[1;33m,\u001b[0m \u001b[0mcompany_list\u001b[0m\u001b[1;33m,\u001b[0m \u001b[0mcursor\u001b[0m\u001b[1;33m,\u001b[0m \u001b[0msc_seperators\u001b[0m \u001b[1;33m=\u001b[0m \u001b[0minit_variables\u001b[0m\u001b[1;33m(\u001b[0m\u001b[0mkeyword\u001b[0m\u001b[1;33m,\u001b[0m \u001b[0mkeyword_alternatives\u001b[0m\u001b[1;33m)\u001b[0m\u001b[1;33m\u001b[0m\u001b[0m\n\u001b[0m",
      "\u001b[1;31mNameError\u001b[0m: name 'keyword' is not defined"
     ]
    }
   ],
   "source": [
    "tempre, tempre2, tempre3, subject_postpositions1, subject_postpositions2, patterns1, patterns2, augmented_keyword_list, company_list, cursor, sc_seperators = init_variables(keyword, keyword_alternatives)"
   ]
  },
  {
   "cell_type": "code",
   "execution_count": 7,
   "metadata": {},
   "outputs": [],
   "source": [
    "keyword = \"증강 현실\"\n",
    "except_words = None\n",
    "require_words = None\n",
    "condition = \"False\"\n",
    "syn = \"False\"\n",
    "keyword_alternatives = []"
   ]
  },
  {
   "cell_type": "code",
   "execution_count": 8,
   "metadata": {},
   "outputs": [],
   "source": [
    "url = \"https://1boon.kakao.com/appstory/599e6d0e6a8e51000138fe39\"\n",
    "html_soup, html_text, footer_soup, footer_text, title = parse_html(url)"
   ]
  },
  {
   "cell_type": "code",
   "execution_count": 23,
   "metadata": {},
   "outputs": [
    {
     "name": "stdout",
     "output_type": "stream",
     "text": [
      "kt\n",
      "Case 3) kt - Pattern 0\n",
      "서덜랜드\n",
      "\"서덜랜드\" does not exist with keyword in sentence (▲이반 서덜랜드가 개발한 헤드 마운트 디스플레이) -> keyword list : ['증강', '증강 현실', '현실']\n",
      "마이크로소프트\n",
      "Case 3) 마이크로소프트 - Pattern 2\n"
     ]
    }
   ],
   "source": [
    "pattern_0_found = False\n",
    "found_company_list = []\n",
    "for j, pattern in enumerate(patterns1):\n",
    "    if (pattern_0_found == True) & (j == 1): continue  # Pattern0으로 찾았을 경우 Pattern1은 중복됨으로 skip\n",
    "    for res in html_soup.findAll(text=re.compile(pattern)):  # 본문에서만\n",
    "\n",
    "        cor_word_area = res.lower().strip()\n",
    "        if len(re.findall(pattern, cor_word_area)) == 0 : cor_word_area = \" \" + cor_word_area + \" \"\n",
    "        cor_word = re.findall(pattern, cor_word_area)[0]\n",
    "        if j in [0, 1]: cor_word = cor_word[1]\n",
    "        elif j == 5 :\n",
    "            cor_word = cor_word[0]\n",
    "            if \",\" in cor_word:\n",
    "                cor_word = [e.strip() for e in cor_word.split(\",\")]\n",
    "            elif \"·\" in cor_word:\n",
    "                cor_word = [e.strip() for e in cor_word.split(\"·\")]\n",
    "            else:\n",
    "                cor_word = [cor_word.strip()]\n",
    "                \n",
    "        print(cor_word)\n",
    "\n",
    "        if type(cor_word) == str: cor_word = [cor_word]\n",
    "\n",
    "        for g, each in enumerate(cor_word):\n",
    "            # 해당 기업명 포함 단락 내 키워드가 포함되었는지 확인\n",
    "            found, coappear_keyword = check_keywords_exist_in_paragrah(cor_word_area, augmented_keyword_list)\n",
    "\n",
    "            if found is not True:\n",
    "                print(\n",
    "                    '\"' + each + '\" does not exist with keyword in sentence (' + cor_word_area + ') -> keyword list : ' + str(\n",
    "                        augmented_keyword_list))\n",
    "            else:\n",
    "\n",
    "                # remove all strings in parenthesis with it and remove \"(주)\"\n",
    "                # p_temp_cor_word = re.sub(r'\\([^)]*\\)', '', cor_word).replace(\"(주)\", \"\").replace(\"㈜\", \"\")\n",
    "                p_temp_cor_word = each\n",
    "                if (p_temp_cor_word in [c.replace(\"(주)\", \"\") for c in found_company_list] + [\"입장\", \"입장에서\",\n",
    "                                                                                                 \"경험을\",\n",
    "                                                                                                 \"경험\", \"본인\", \"자신\",\n",
    "                                                                                                 \"관계자\", \"중에\", \"본사\",\n",
    "                                                                                                 \"자사\", \"배송기사\", \"제품\",\n",
    "                                                                                                 \"마케팅\", \"그룹\"]) | (\n",
    "                        len(p_temp_cor_word) < 2): continue\n",
    "\n",
    "                if j == 0: pattern_0_found = True  # Pattern 0 으로 찾았을 경우 체크\n",
    "                each = p_temp_cor_word\n",
    "                # if each in found_company_list_flatten: continue\n",
    "                # print(\n",
    "                # '\"' + each + '\" exists with keyword in sentence (' + cor_word_area + ') -> keyword : ' + coappear_keyword)\n",
    "                print(\"Case 3)\", each, \"- Pattern\", j)\n",
    "                \n",
    "                found_company_list.append(each)"
   ]
  },
  {
   "cell_type": "code",
   "execution_count": 22,
   "metadata": {},
   "outputs": [
    {
     "data": {
      "text/plain": [
       "1"
      ]
     },
     "execution_count": 22,
     "metadata": {},
     "output_type": "execute_result"
    }
   ],
   "source": [
    "import re\n",
    "\n",
    "len(re.findall(r'[A-Za-z]사', 'p사'))"
   ]
  }
 ],
 "metadata": {
  "kernelspec": {
   "display_name": "Python 3",
   "language": "python",
   "name": "python3"
  },
  "language_info": {
   "codemirror_mode": {
    "name": "ipython",
    "version": 3
   },
   "file_extension": ".py",
   "mimetype": "text/x-python",
   "name": "python",
   "nbconvert_exporter": "python",
   "pygments_lexer": "ipython3",
   "version": "3.6.5"
  }
 },
 "nbformat": 4,
 "nbformat_minor": 2
}
