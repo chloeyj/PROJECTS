{
 "cells": [
  {
   "cell_type": "code",
   "execution_count": 211,
   "metadata": {},
   "outputs": [],
   "source": [
    "from main_query import *"
   ]
  },
  {
   "cell_type": "code",
   "execution_count": 6,
   "metadata": {},
   "outputs": [],
   "source": [
    "keyword = \"드론\"\n",
    "except_words = \"\"\n",
    "require_words = \"\"\n",
    "condition = False\n",
    "syn = False"
   ]
  },
  {
   "cell_type": "code",
   "execution_count": 173,
   "metadata": {},
   "outputs": [],
   "source": [
    "init_variables()\n",
    "init_count_dict()\n",
    "company_list = init_company_list()"
   ]
  },
  {
   "cell_type": "code",
   "execution_count": 7,
   "metadata": {},
   "outputs": [],
   "source": [
    "# google custom search and get urls related with the keyword\n",
    "url_list = google_search(keyword, except_words, require_words, condition, syn)"
   ]
  },
  {
   "cell_type": "code",
   "execution_count": 11,
   "metadata": {},
   "outputs": [],
   "source": [
    "# remove download url and pdf url\n",
    "download_list, html_list = classify_url(url_list)"
   ]
  },
  {
   "cell_type": "code",
   "execution_count": 19,
   "metadata": {},
   "outputs": [],
   "source": [
    "except_company = [\"(주)메커니즘\", \"(주)스위스\", \"(주)현대인\", \"(주)플러스\", \"우리나라(주)\", \"혈당측정기(주)\", \"당뇨환자(주)\"]"
   ]
  },
  {
   "cell_type": "code",
   "execution_count": null,
   "metadata": {},
   "outputs": [],
   "source": []
  },
  {
   "cell_type": "code",
   "execution_count": 174,
   "metadata": {},
   "outputs": [
    {
     "data": {
      "text/plain": [
       "['(주)네온테크']"
      ]
     },
     "execution_count": 174,
     "metadata": {},
     "output_type": "execute_result"
    }
   ],
   "source": [
    "temp = \"네온테크\"\n",
    "[company for company in company_list if temp in company]"
   ]
  },
  {
   "cell_type": "code",
   "execution_count": 148,
   "metadata": {},
   "outputs": [
    {
     "data": {
      "text/plain": [
       "'인텔㈜'"
      ]
     },
     "execution_count": 148,
     "metadata": {},
     "output_type": "execute_result"
    }
   ],
   "source": [
    "company3"
   ]
  },
  {
   "cell_type": "code",
   "execution_count": 146,
   "metadata": {},
   "outputs": [
    {
     "data": {
      "text/plain": [
       "False"
      ]
     },
     "execution_count": 146,
     "metadata": {},
     "output_type": "execute_result"
    }
   ],
   "source": [
    "company in html_text"
   ]
  },
  {
   "cell_type": "code",
   "execution_count": 169,
   "metadata": {},
   "outputs": [],
   "source": [
    "tempre = re.compile(r'[\\w_]+')\n",
    "tempre2 = re.compile(r'[\\W_]+')\n",
    "A = [\"은\", \"는\", \"이\", \"가\", \"의\", \"와\", \"과\"]\n",
    "B = \"에서\"\n",
    "C = \"입니다\"\n",
    "news_keywords = [\"news\", \"뉴스\", \"신문\"]\n",
    "tagger = Kkma()"
   ]
  },
  {
   "cell_type": "code",
   "execution_count": 205,
   "metadata": {},
   "outputs": [
    {
     "data": {
      "text/plain": [
       "'330g 드론, 150㎝ 간격 유지… 평창 바람 이겨냈다 -  chosunbiz - 프리미엄 경제 파워\\n\\n\\n\\n\\n\\n\\n\\n\\n\\n\\n\\n\\n\\n\\n\\n\\n\\n\\n\\n\\n\\n\\n\\n\\n\\n\\n\\n\\n\\n\\n\\n\\n\\n\\xa0\\n\\n\\n\\n\\xa0\\n\\n\\n\\n\\n\\n\\n\\n\\n\\n\\n\\n\\n\\n\\n\\n\\n\\n\\n\\n\\n\\n\\n\\n\\n\\n\\n\\n\\n\\n\\n\\n\\n\\n\\n\\n\\n\\n\\n\\n330g 드론, 150㎝ 간격 유지… 평창 바람 이겨냈다\\n\\r\\n\\t\\t\\t\\t\\r\\n\\t\\t\\t\\t\\t\\r\\n\\t\\t\\t\\t \\r\\n\\t\\t\\t\\t이영완 과학전문기자\\n\\r\\n\\t\\t\\t\\t\\r\\n\\t\\t\\t\\t\\t\\r\\n\\t\\t\\t\\t \\r\\n\\t\\t\\t\\t박순찬 기자\\n\\n\\n\\n기사\\n(0)\\n\\n\\n\\n\\n\\n\\n\\n\\n\\n\\n\\n\\r\\n\\t\\t\\t\\t\\t입력 : 2018.02.12 03:08\\r\\n\\t\\t\\t\\t\\t\\t | 수정 : 2018.02.12 03:10\\r\\n\\t\\t    \\n\\n[\\'1218대 드론쇼\\'로 첨단it 개회식]gps·led 조명·통신칩 등 탑재… 1명이 컴퓨터 1대로 모두 조종…연출 이미지, 프로그램에 입력땐 드론들 하늘을 무대로 그림 그려\"평창 겨울바람에 견딜 수 있도록 1년 전부터 알프스산에서 테스트\"\\r\\n\\t\\t\\r\\n\\r\\n\\r\\n\\t\\t\\t\\t지난 9일 평창올림픽 개막식에서 선보인 1218대의 드론 쇼는 it(정보기술)와 통신 기술의 절정을 보여준 장관(壯觀)이었다. 이번 행사는 \\'최다 무인 항공기 동시 비행\\'으로 기네스북에도 등재될 예정이다. 1218대의 드론은 어떻게 안 부딪히고 하늘을 날 수 있었을까. 이번 행사를 준비하고 기획한 미국 인텔 측은 \"단 한 명의 조종사가 한 대의 컴퓨터로 조종한 것\"이라고 설명했다.◇조종사 1명이 컴퓨터 한 대로 조종개막식에 등장한 드론은 인텔이 특별 제작한 \\'슈팅 스타(shooting star)\\'란 이름의 소형 무인 항공기다. 플라스틱 소재를 사용해 무게가 330g에 불과하다. 배구공보다 조금 무거운 수준이다. 가로, 세로는 각각 38.4㎝. 각 드론에는 위치 파악을 위한 gps(위성 위치 확인 시스템)와 led(발광다이오드) 조명, 통신칩, 배터리 등이 탑재돼 있다. 이 드론 1218대가 일제히 5피트(약 150㎝) 이내의 간격을 유지하며 오륜기, 스노보드 선수를 그려낸 것이다.\\n\\n\\n\\n\\n▲ 지난 9일 평창 동계올림픽 개막식에서 1218대의 인텔사 드론이 공중에 연출한 영상들. 드론들이 날면서 빛을 내 스노보드를 탄 사람(위 왼쪽)과 오륜기(아래)를 연출했다. 위 오른쪽 사진은 드론 영상을 보고 있는 인텔 기술진들이다. 이날 영상은 작년 12월에 평창에서 실제 비행한 장면을 녹화해 재생했다. 개막식에는 안전 문제로 실제 드론을 띄우지는 않았다. /인텔\\n\\n\\r\\n\\r\\n\\r\\n\\t\\t\\t\\t이 드론들은 세 종류의 프로그램을 통해 조종한다. 첫째는 하늘에 연출할 이미지를 입력하면 총 몇 대의 드론이 필요한지는 물론 각각의 드론이 머물러야 하는 위치, 지상에서 이륙해 그곳까지 향하는 최단 경로까지 계산해내는 애니메이션 프로그램이다. 둘째 프로그램은 각 드론의 배터리, gps 신호 상태 등을 실시간 관리하는 매니지먼트 프로그램이다. 마지막은 드론을 실제로 조작하는 프로그램이다. 모든 것이 프로그램화돼 있기 때문에 한 명의 조종사가 컴퓨터 한 대로 조작이 가능한 것이다. 인텔 관계자는 \"하나의 이벤트를 준비하는 데 짧게는 며칠, 길게는 몇 주가 소요된다\"고 말했다.드론 군무(群舞)의 기술적 난관도 적지 않다. 우선은 드론 간 거리를 정교하게 유지하는 것이다. 일반 gps처럼 오차가 수m 단위여선 하늘에서 충돌할 수 있다. 이 때문에 드론에는 수㎝ 단위 측정이 가능한 \\'실시간 운동(rts·real time kinematic) gps\\'를 쓴다. 공현철 한국항공우주연구원 미래항공우주기술팀장은 \"지상에 고정된 하나의 지점을 기준 삼아 각 드론이 상대 거리를 파악해 정확한 위치를 유지한다\"고 설명했다.\\n\\n\\n\\n\\r\\n\\r\\n\\r\\n\\t\\t\\t\\t통신량을 줄이는 것도 관건이다. 군무에 참여하는 드론이 늘어날수록 서버(대형 컴퓨터)와 드론 간 통신량이 급증하기 때문이다. 이를 피하기 위해 각 드론에 미리 운행 시나리오를 입력한다. 이번 행사에서 인텔은 5g(5세대 이동통신) 대신 안정성이 검증된 자체 와이파이(근거리 무선통신) 기술을 사용했다.마지막으로 바람의 영향을 최소화하는 것이다. 이번 개막쇼에 활용된 인텔 드론은 초경량이지만 초속 10m 수준의 바람을 견딜 수 있도록 설계됐다. 인텔 관계자는 \"이번 개막쇼를 준비할 때도 바람이 가장 큰 고민이었다\"면서 \"평창의 겨울바람에 견딜 수 있도록 행사 1년 전부터 알프스산에 올라가 수차례 사전 테스트를 했다\"고 말했다.◇인텔, 드론쇼 기네스북 자체 갱신인텔은 2015년 독일 함부르크에서 드론 군무를 처음 선보였다. 베토벤의 운명 교향곡에 맞춰 드론 100대가 춤을 추는 동영상을 공개한 것이다. 작년 2월에는 미식축구 수퍼볼 경기장에서 드론 300대가 레이디 가가의 공연에 맞춰 성조기 형상을 그렸다. 기존의 드론쇼 기네스북 기록도 인텔이 2016년 독일에서 500대의 드론으로 세운 것이다.다만 평창 개막식 날 드론이 실제 하늘에 뜨지는 않았다. 대신 작년 12월 강원도 평창·정선군 일대에서 1218대의 드론을 띄웠던 현장을 녹화해 대형 스크린으로 보여줬다. 인텔은 이날 드론 300대를 실제로 날려 영상과 결합하려 했지만 관객 안전 문제 때문에 결국 띄우지 못했다. 인텔은 평창올림픽 야간 시상식에 300대의 드론을 동원해 15차례의 쇼를 추가로 선보일 계획이다.\\n\\n\\n\\n\\n\\n\\n\\n\\n\\n황민규 기자\\n\\n\\n\\n\\n\\n※ 이 기사는 조선일보 지면에 실린 기사입니다.\\n\\n\\n\\n\\n\\n\\n\\n\\n\\n\\n\\n\\n\\n\\n\\n\\n\\n\\n\\n\\n copyright ⓒ 조선일보 & chosun.com'"
      ]
     },
     "execution_count": 205,
     "metadata": {},
     "output_type": "execute_result"
    }
   ],
   "source": [
    "html_text"
   ]
  },
  {
   "cell_type": "code",
   "execution_count": 223,
   "metadata": {},
   "outputs": [
    {
     "data": {
      "text/plain": [
       "'(주)통해'"
      ]
     },
     "execution_count": 223,
     "metadata": {},
     "output_type": "execute_result"
    }
   ],
   "source": [
    "company"
   ]
  },
  {
   "cell_type": "code",
   "execution_count": 220,
   "metadata": {},
   "outputs": [],
   "source": [
    "company_count_dict = init_count_dict()\n",
    "company_list = [\"인텔(주)\"]\n",
    "html_list = [\"http://biz.khan.co.kr/khan_art_view.html?artid=201802140600005\"]\n",
    "\n",
    "for i, url in enumerate(html_list):\n",
    "    if i != 0 : continue\n",
    "        \n",
    "    # parse html\n",
    "    html_text, footer_text = parse_html(url)\n",
    "\n",
    "    if html_text == None: continue\n",
    "\n",
    "    found_index_list = []\n",
    "    for company in company_list:\n",
    "        '''\n",
    "        Case 1) 기업 DB 사용, \"(주)\" 포함\n",
    "        '''\n",
    "        found = False\n",
    "\n",
    "        if company.find(\"(주)\") != -1 :\n",
    "            \n",
    "            company3 = company.replace(\"(주)\", \"㈜\")\n",
    "\n",
    "            if (company in html_text) | (company3 in html_text):  # 본문에서 검색\n",
    "                \n",
    "                # 특수문자 \"㈜\" 로 대체\n",
    "                if company not in html_text:\n",
    "                    company = company3\n",
    "\n",
    "                temp_idx = html_text.find(company)\n",
    "                # 기업명 뒤가 주격조사, 특수문자, 공백 중 하나로 끝나는지 체크\n",
    "                if (html_text[temp_idx + len(company)] in A) | \\\n",
    "                        (html_text[temp_idx + len(company): temp_idx + len(company) + 2] == B) | \\\n",
    "                        (html_text[temp_idx + len(company): temp_idx + len(company) + 3] == C):\n",
    "                    found = True\n",
    "                    company = company.replace(\"㈜\", \"(주)\")\n",
    "                    print(\"Case 1-A)\", company)\n",
    "                    if company in company_count_dict:\n",
    "                        company_count_dict[company][\"count\"] += 1\n",
    "                        company_count_dict[company][\"url_list\"].append(url)\n",
    "                    else:\n",
    "                        company_count_dict[company] = {\"count\": 1, \"url_list\": [url]}\n",
    "                    found_index_list.append(temp_idx)\n",
    "                else:\n",
    "                    pass\n",
    "                    # print(company, \" is real company name?\")\n",
    "\n",
    "            elif (company in footer_text) | (company3 in footer_text):  # footer에서 검색\n",
    "                if any(n in footer_text for n in news_keywords): continue\n",
    "\n",
    "                # 특수문자 \"㈜\"로 대체\n",
    "                if company not in footer_text:\n",
    "                    company = company3\n",
    "\n",
    "                temp_idx = footer_text.find(company)\n",
    "\n",
    "                if (footer_text[temp_idx + len(company)] in A) | \\\n",
    "                        (footer_text[temp_idx + len(company): temp_idx + len(company) + 2] == B) | \\\n",
    "                        (footer_text[temp_idx + len(company): temp_idx + len(company) + 3] == C):\n",
    "                    found = True\n",
    "                    company = company.replace(\"㈜\", \"(주)\")\n",
    "                    print(\"Case 1-B)\", company)\n",
    "                    if company in company_count_dict:\n",
    "                        company_count_dict[company][\"count\"] += 1\n",
    "                        company_count_dict[company][\"url_list\"].append(url)\n",
    "                    else:\n",
    "                        company_count_dict[company] = {\"count\": 1, \"url_list\": [url]}\n",
    "\n",
    "        print(\"?\")\n",
    "        '''\n",
    "        Case 2) 기업 DB 사용, \"(주)\" 포함하지 않음\n",
    "        '''\n",
    "\n",
    "        if (found == True) | (company in except_company): continue\n",
    "\n",
    "        company2 = company.replace(\"(주)\", \"\").replace(\"㈜\", \"\").strip()\n",
    "\n",
    "        if len(company2) <= 1: continue  # 기업명 변수 길이 제한\n",
    "\n",
    "        if company2 in html_text:\n",
    "            print(\"t\")\n",
    "            occur_indices = find_substring(company2, html_text)\n",
    "            occur_indices_f = []\n",
    "            for idx in occur_indices:\n",
    "                if idx + len(company2) == len(html_text):\n",
    "                    if len(tempre.findall(html_text[idx - 1])) != 0:\n",
    "                        # find both start and end of the sentence\n",
    "                        start = len(html_text[:idx]) - [m.start(0) for m in re.finditer(tempre2, html_text[:idx][::-1])][0]\n",
    "                        temp_sentence = html_text[start:].strip()\n",
    "                        if company2 in tagger.nouns(temp_sentence):\n",
    "                            found = True\n",
    "                            break\n",
    "                        else:\n",
    "                            continue\n",
    "                elif (len(tempre.findall(html_text[idx - 1])) == 0) & (\n",
    "                        (html_text[idx + len(company2)] in A) | (len(tempre2.findall(html_text[idx + len(company2)])) != 0) | (\n",
    "                        html_text[idx + len(company2):idx + len(company2) + 2] == B) | (\n",
    "                    html_text[idx + len(company2): idx + len(company2) + 3] == C)):\n",
    "                    start = len(html_text[:idx]) - [m.start(0) for m in re.finditer(tempre2, html_text[:idx][::-1])][0]\n",
    "                    end = idx + [m.start(0) for m in re.finditer(tempre2, html_text[idx:])][0]\n",
    "                    temp_sentence = html_text[start:end].strip()\n",
    "                    if company2 == temp_sentence :\n",
    "                        found  = True\n",
    "                    if company2 in tagger.nouns(temp_sentence):\n",
    "                        found = True\n",
    "                        break\n",
    "\n",
    "            if found == True:\n",
    "                print(\"Case 2)\", company)\n",
    "                if company in company_count_dict:\n",
    "                    company_count_dict[company][\"count\"] += 1\n",
    "                    company_count_dict[company][\"url_list\"].append(url)\n",
    "                else:\n",
    "                    company_count_dict[company] = {\"count\": 1, \"url_list\": [url]}\n",
    "            else:\n",
    "                pass\n",
    "                # print(company, \" is real company name? 2\")\n",
    "                    \n",
    "company_count_dict"
   ]
  },
  {
   "cell_type": "code",
   "execution_count": null,
   "metadata": {},
   "outputs": [],
   "source": []
  }
 ],
 "metadata": {
  "kernelspec": {
   "display_name": "Python 3",
   "language": "python",
   "name": "python3"
  },
  "language_info": {
   "codemirror_mode": {
    "name": "ipython",
    "version": 3
   },
   "file_extension": ".py",
   "mimetype": "text/x-python",
   "name": "python",
   "nbconvert_exporter": "python",
   "pygments_lexer": "ipython3",
   "version": "3.6.6"
  }
 },
 "nbformat": 4,
 "nbformat_minor": 2
}
